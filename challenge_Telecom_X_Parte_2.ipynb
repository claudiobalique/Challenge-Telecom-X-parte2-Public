{
  "cells": [
    {
      "cell_type": "markdown",
      "metadata": {
        "id": "view-in-github",
        "colab_type": "text"
      },
      "source": [
        "<a href=\"https://colab.research.google.com/github/claudiobalique/Challenge-Telecom-X-parte2-Public/blob/main/challenge_Telecom_X_Parte_2.ipynb\" target=\"_parent\"><img src=\"https://colab.research.google.com/assets/colab-badge.svg\" alt=\"Open In Colab\"/></a>"
      ]
    },
    {
      "cell_type": "markdown",
      "metadata": {
        "id": "4foVEKhrlqcH"
      },
      "source": [
        "#🛠️ Preparação dos Dados"
      ]
    },
    {
      "cell_type": "code",
      "source": [
        "import pandas as pd\n",
        "\n",
        "# URL do arquivo JSON\n",
        "url = 'https://raw.githubusercontent.com/ingridcristh/challenge2-data-science/main/TelecomX_Data.json'\n",
        "\n",
        "# Carregando os dados do JSON\n",
        "dados_telecom_x = pd.read_json(url)\n",
        "\n",
        "# Expandindo as colunas que contêm subdados em dicionários\n",
        "colunas_para_normalizar = ['customer', 'phone', 'internet', 'account']\n",
        "\n",
        "for coluna in colunas_para_normalizar:\n",
        "    if coluna in dados_telecom_x.columns:\n",
        "        dados_expandido = pd.json_normalize(dados_telecom_x[coluna])\n",
        "        dados_telecom_x = dados_telecom_x.drop(columns=[coluna]).join(dados_expandido, rsuffix=f'_{coluna}')\n",
        "    else:\n",
        "        print(f\"A coluna '{coluna}' não foi encontrada no conjunto de dados.\")\n",
        "\n",
        "# Exibindo as primeiras linhas do dataframe tratado\n",
        "dados_telecom_x.head()\n",
        "\n",
        "# prompt: exportar o dataset acima para o format csv\n",
        "# Utilizei essa opção para melhor estudar os dados\n",
        "#dados_telecom_x.to_csv('dados_telecom_x.csv', index=False)\n",
        "\n"
      ],
      "metadata": {
        "id": "hGGQTLGQHsIY"
      },
      "execution_count": null,
      "outputs": []
    },
    {
      "cell_type": "markdown",
      "source": [],
      "metadata": {
        "id": "XKlpKm3uKWRr"
      }
    },
    {
      "cell_type": "markdown",
      "metadata": {
        "id": "1lSZP8zmmGZu"
      },
      "source": [
        "# 🎯 Correlação e Seleção de Variáveis"
      ]
    },
    {
      "cell_type": "markdown",
      "source": [],
      "metadata": {
        "id": "4CyACVmiUrHv"
      }
    },
    {
      "cell_type": "markdown",
      "metadata": {
        "id": "6XnTC2NTmMRL"
      },
      "source": [
        "#🤖 Modelagem Preditiva"
      ]
    },
    {
      "cell_type": "code",
      "source": [],
      "metadata": {
        "id": "qeVVr5k7awkr"
      },
      "execution_count": null,
      "outputs": []
    },
    {
      "cell_type": "markdown",
      "metadata": {
        "id": "v-WzfSvTmaw9"
      },
      "source": [
        "#📋  Interpretação e Conclusões"
      ]
    },
    {
      "cell_type": "code",
      "execution_count": null,
      "metadata": {
        "id": "XMTac0YJmeK9"
      },
      "outputs": [],
      "source": []
    }
  ],
  "metadata": {
    "colab": {
      "provenance": [],
      "include_colab_link": true
    },
    "kernelspec": {
      "display_name": "Python 3",
      "name": "python3"
    },
    "language_info": {
      "name": "python"
    }
  },
  "nbformat": 4,
  "nbformat_minor": 0
}